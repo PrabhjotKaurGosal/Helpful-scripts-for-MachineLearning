{
 "cells": [
  {
   "cell_type": "code",
   "execution_count": 213,
   "id": "corresponding-rating",
   "metadata": {},
   "outputs": [],
   "source": [
    "# This file converts object detection annotations from YOLO format (.txt and .names) to COCO format (.json)\n",
    "# The base code is originally from: https://www.programmersought.com/article/76707275021/\n",
    "# It was modified extensively as the original code was not working for my needs.\n",
    "# More information about the conversion process can be found here: https://prabhjotkaurgosal.com/weekly-learning-blogs/"
   ]
  },
  {
   "cell_type": "code",
   "execution_count": 11,
   "id": "amino-cleaners",
   "metadata": {},
   "outputs": [],
   "source": [
    "import os\n",
    "import json\n",
    "import cv2\n",
    "import random\n",
    "import time"
   ]
  },
  {
   "cell_type": "code",
   "execution_count": 12,
   "id": "selective-officer",
   "metadata": {},
   "outputs": [],
   "source": [
    "# (OPTIONAL) step\n",
    "# Preparing the Dataset\n",
    "# Convert all images to .jpg (This is not necessary but made my life easier down the line)\n",
    "\n",
    "from PIL import Image\n",
    "#iml = Image.open(r'/absolute/path/to/the/image/directory/followed/by/image/name/with/its/extesnion')\n",
    "#rgb_im = iml.convert('RGB')\n",
    "#rgb_im.save(r'/absolutae/path/to/the/directory/where/image/must/be/stored/image_name.jpg')\n"
   ]
  },
  {
   "cell_type": "code",
   "execution_count": 221,
   "id": "posted-moore",
   "metadata": {},
   "outputs": [
    {
     "name": "stdout",
     "output_type": "stream",
     "text": [
      "The number of unlabelled files is:  121\n"
     ]
    }
   ],
   "source": [
    "# (OPTIONAL) step\n",
    "# Preparing the Dataset - remove unlabelled files\n",
    "# I chose to remove the image files from the dataset that were not labelled\n",
    "# Move the files (jpg and txt that are not labelled) from the working directory and put them in another folder. . .\n",
    "\n",
    "import shutil\n",
    "\n",
    "directory_labels = os.fsencode(\"/absolute/path/to/labelled/files\") #absolute path to the directory where all labels are stored\n",
    "directory_images = os.fsencode(\"/absolute/path/to/images/files\") #absolute path to the directory where all images are stored\n",
    "directory_unlabelled_images = os.fsencode(\"/absolute/path/to/newFolder\")#absolute path to the directory where unlabelled images are to be stored\n",
    "\n",
    "not_labelled_files = 0\n",
    "for file in os.listdir(directory_labels): #Read from the directory where the labels are stored\n",
    "     filename = os.fsdecode(file)\n",
    "     if filename.endswith(\".txt\"):\n",
    "        yolo_annotation_path = (os.path.join(directory_labels.decode(\"utf-8\"), filename))\n",
    "        base=os.path.basename(yolo_annotation_path)\n",
    "        file_name_without_ext = os.path.splitext(base)[0] # name of the file without the extension\n",
    "        img_path = os.path.join(directory_images.decode(\"utf-8\"), file_name_without_ext+ \".\" + 'jpg')\n",
    "        \n",
    "        filesize = os.path.getsize(yolo_annotation_path)\n",
    "        if filesize == 0: #chek if the label file (.txt) is empty - that is it has no labels\n",
    "            UnlabeledImg_path = os.path.join(directory_unlabelled_images.decode(\"utf-8\"), file_name_without_ext+ \".\" + 'jpg')\n",
    "            not_labelled_files = not_labelled_files +1\n",
    "            \n",
    "            shutil.move(img_path, UnlabeledImg_path) #remove the corresponding image to another directory\n",
    "print(\"The number of unlabelled files is: \", not_labelled_files)"
   ]
  },
  {
   "cell_type": "code",
   "execution_count": 13,
   "id": "precise-sentence",
   "metadata": {},
   "outputs": [],
   "source": [
    "#### This is where the conversion process starts from YOLO to COCO format\n",
    "\n",
    "# Category file, one category per line\n",
    "yolo_format_classes_path = '/media/jyoti/My Passport/DoorDetectDataset/obj.names'\n",
    "# Write the category according to your own data set. \n",
    "\n",
    "#Read the categories file and extract all categories\n",
    "with open(yolo_format_classes_path,'r') as f1:\n",
    "    lines1 = f1.readlines()\n",
    "categories = []\n",
    "for j,label in enumerate(lines1):\n",
    "    label = label.strip()\n",
    "    categories.append({'id':j+1,'name':label,'supercategory': label})\n",
    "    \n",
    "write_json_context = dict()\n",
    "write_json_context['info'] = {'description': '', 'url': '', 'version': '', 'year': 2021, 'contributor': '', 'date_created': '2021-02-12 11:00:08.5'}\n",
    "write_json_context['licenses'] = [{'id': 1, 'name': None, 'url': None}]\n",
    "write_json_context['categories'] = categories\n",
    "write_json_context['images'] = []\n",
    "write_json_context['annotations'] = []"
   ]
  },
  {
   "cell_type": "code",
   "execution_count": 14,
   "id": "north-parade",
   "metadata": {},
   "outputs": [],
   "source": [
    "# Read the YOLO formatted label files (.txt) to extarct bounding box information and store in COCO format\n",
    "\n",
    "#Read the label files (.txt) to extarct bounding box information and store in COCO format\n",
    "directory_labels = os.fsencode(\"/home/jyoti/Desktop/csc8800/datasets/DoorDetectDataset/labels\")\n",
    "#directory_images = os.fsencode(\"/home/jyoti/Desktop/csc8800/datasets/DoorDetectDataset/test\")\n",
    "directory_images = os.fsencode(\"/home/jyoti/Desktop/csc8800/datasets/DoorDetectDataset/train\")\n",
    "\n",
    "file_number = 1\n",
    "num_bboxes = 1\n",
    "for file in os.listdir(directory_images):\n",
    "    filename = os.fsdecode(file)\n",
    "    if filename.endswith(\".jpg\"):\n",
    "        img_path = (os.path.join(directory_images.decode(\"utf-8\"), filename))\n",
    "        base=os.path.basename(img_path)\n",
    "        file_name_without_ext = os.path.splitext(base)[0] # name of the file without the extension\n",
    "        yolo_annotation_path  = os.path.join(directory_labels.decode(\"utf-8\"), file_name_without_ext+ \".\" + 'txt')\n",
    "        img_name = os.path.basename(img_path) # name of the file without the extension\n",
    "        img_context = {}\n",
    "        height,width = cv2.imread(img_path).shape[:2]\n",
    "        img_context['file_name'] = img_name\n",
    "        img_context['height'] = height\n",
    "        img_context['width'] = width\n",
    "        img_context['date_captured'] = '2021-02-12 11:00:08.5'\n",
    "        img_context['id'] = file_number # image id\n",
    "        img_context['license'] = 1\n",
    "        img_context['coco_url'] =''\n",
    "        img_context['flickr_url'] = ''\n",
    "        write_json_context['images'].append(img_context)\n",
    "        \n",
    "        with open(yolo_annotation_path,'r') as f2:\n",
    "            lines2 = f2.readlines() \n",
    "\n",
    "        for i,line in enumerate(lines2): # for loop runs for number of annotations labelled in an image\n",
    "            line = line.split(' ')\n",
    "            bbox_dict = {}\n",
    "            class_id, x_yolo,y_yolo,width_yolo,height_yolo= line[0:]\n",
    "            x_yolo,y_yolo,width_yolo,height_yolo,class_id= float(x_yolo),float(y_yolo),float(width_yolo),float(height_yolo),int(class_id)\n",
    "            bbox_dict['id'] = num_bboxes\n",
    "            bbox_dict['image_id'] = file_number\n",
    "            bbox_dict['category_id'] = class_id+1\n",
    "            bbox_dict['iscrowd'] = 0 # There is an explanation before\n",
    "            h,w = abs(height_yolo*height),abs(width_yolo*width)\n",
    "            bbox_dict['area']  = h * w\n",
    "            x_coco = round(x_yolo*width -(w/2))\n",
    "            y_coco = round(y_yolo*height -(h/2))\n",
    "            if x_coco <0: #check if x_coco extends out of the image boundaries\n",
    "                x_coco = 1\n",
    "            if y_coco <0: #check if y_coco extends out of the image boundaries\n",
    "                y_coco = 1\n",
    "            bbox_dict['bbox'] = [x_coco,y_coco,w,h]\n",
    "            bbox_dict['segmentation'] = [[x_coco,y_coco,x_coco+w,y_coco, x_coco+w, y_coco+h, x_coco, y_coco+h]]\n",
    "            write_json_context['annotations'].append(bbox_dict)\n",
    "            num_bboxes+=1\n",
    "        \n",
    "        file_number = file_number+1\n",
    "        continue\n",
    "    else:\n",
    "        continue\n",
    "        \n",
    " # Finally done, save!\n",
    "#coco_format_save_path = '/home/jyoti/Desktop/csc8800/datasets/DoorDetectDataset/test.json'\n",
    "coco_format_save_path = '/home/jyoti/Desktop/csc8800/datasets/DoorDetectDataset/train.json'\n",
    "with open(coco_format_save_path,'w') as fw:\n",
    "    json.dump(write_json_context,fw) \n",
    "    "
   ]
  },
  {
   "cell_type": "code",
   "execution_count": null,
   "id": "plain-potential",
   "metadata": {},
   "outputs": [],
   "source": []
  }
 ],
 "metadata": {
  "kernelspec": {
   "display_name": "Python 3",
   "language": "python",
   "name": "python3"
  },
  "language_info": {
   "codemirror_mode": {
    "name": "ipython",
    "version": 3
   },
   "file_extension": ".py",
   "mimetype": "text/x-python",
   "name": "python",
   "nbconvert_exporter": "python",
   "pygments_lexer": "ipython3",
   "version": "3.8.5"
  }
 },
 "nbformat": 4,
 "nbformat_minor": 5
}
